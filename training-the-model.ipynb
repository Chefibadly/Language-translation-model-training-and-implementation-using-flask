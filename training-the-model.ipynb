{
  "nbformat": 4,
  "nbformat_minor": 0,
  "metadata": {
    "colab": {
      "name": "english-frensh-model-1.ipynb",
      "provenance": [],
      "collapsed_sections": []
    },
    "kernelspec": {
      "display_name": "Python 3",
      "name": "python3"
    },
    "language_info": {
      "name": "python"
    }
  },
  "cells": [
    {
      "cell_type": "code",
      "metadata": {
        "colab": {
          "base_uri": "https://localhost:8080/"
        },
        "id": "0J35IwbTLQuH",
        "outputId": "34de4362-575f-452a-c9c5-c9b39371a20e"
      },
      "source": [
        "#importing libraries\n",
        "from google.colab import drive\n",
        "from keras.models import Model\n",
        "from keras import models\n",
        "from keras.layers import Input , LSTM , Dense\n",
        "import tensorflow as tf\n",
        "import pandas as pd\n",
        "import numpy as np\n",
        "drive.mount('/content/drive')\n",
        "\n",
        "data_path = '/content/drive/My Drive/NLP-Sato/fra.txt'#data txt file path\n",
        "batch_size = 64 #Batch size for training\n",
        "epochs = 100 # Number of epochs to train for.\n",
        "num_samples = 10000 #Number of samples to train on.\n",
        "latent_dim = 256 #euuh"
      ],
      "execution_count": null,
      "outputs": [
        {
          "output_type": "stream",
          "name": "stdout",
          "text": [
            "Drive already mounted at /content/drive; to attempt to forcibly remount, call drive.mount(\"/content/drive\", force_remount=True).\n"
          ]
        }
      ]
    },
    {
      "cell_type": "code",
      "metadata": {
        "id": "Agp9idxHPaIp"
      },
      "source": [
        "#vectorizing the data\n",
        "input_texts = [] #french input\n",
        "target_texts = [] #english target output\n",
        "input_characters = set()\n",
        "target_characters = set()\n",
        "with open(data_path, 'r', encoding = 'utf-8') as f:\n",
        "  lines = f.read().split('\\n')\n",
        "for line in lines[: min(num_samples, len(lines)-1)]:\n",
        "  target_text,input_text, _ = line.split('\\t')\n",
        "  target_text = '\\t' + target_text + '\\n'\n",
        "  input_texts.append(input_text)\n",
        "  target_texts.append(target_text)\n",
        "  for char in input_text:\n",
        "    if char not in input_characters:\n",
        "      input_characters.add(char)\n",
        "  for char in target_text:\n",
        "    if char not in target_characters:\n",
        "      target_characters.add(char)"
      ],
      "execution_count": null,
      "outputs": []
    },
    {
      "cell_type": "code",
      "metadata": {
        "id": "9Awnqbd09h2i"
      },
      "source": [
        "input_text"
      ],
      "execution_count": null,
      "outputs": []
    },
    {
      "cell_type": "code",
      "metadata": {
        "id": "TWJhkOmFcslf"
      },
      "source": [
        "target_characters = sorted(list(target_characters))\n",
        "input_characters = sorted(list(input_characters))\n",
        "number_encoder_tokens = len(input_characters)\n",
        "number_decoder_tokens = len(target_characters)\n",
        "max_encoder_seq_length = max ([len(txt) for txt in input_texts])\n",
        "max_decoder_seq_length = max ([len(txt) for txt in target_texts])"
      ],
      "execution_count": null,
      "outputs": []
    },
    {
      "cell_type": "code",
      "metadata": {
        "id": "DTqIkvV-LxtH",
        "colab": {
          "base_uri": "https://localhost:8080/"
        },
        "outputId": "6f367de9-2aa7-4e30-de26-421098319d0d"
      },
      "source": [
        "max_decoder_seq_length"
      ],
      "execution_count": null,
      "outputs": [
        {
          "output_type": "execute_result",
          "data": {
            "text/plain": [
              "17"
            ]
          },
          "metadata": {},
          "execution_count": 74
        }
      ]
    },
    {
      "cell_type": "code",
      "metadata": {
        "colab": {
          "base_uri": "https://localhost:8080/"
        },
        "id": "3p7TwW3wgJ5G",
        "outputId": "6158934a-3fc0-4f42-d2cc-0edbbe09fdab"
      },
      "source": [
        "print('Number of samples:',len(input_texts))\n",
        "print('Number of unique input tokens',number_encoder_tokens)\n",
        "print('Number of unique output tokens:',number_decoder_tokens)\n",
        "print('Max sequence length for inputs:',max_encoder_seq_length)\n",
        "print('Max sequence length for outputs:',max_decoder_seq_length)"
      ],
      "execution_count": null,
      "outputs": [
        {
          "output_type": "stream",
          "name": "stdout",
          "text": [
            "Number of samples: 10000\n",
            "Number of unique input tokens 90\n",
            "Number of unique output tokens: 73\n",
            "Max sequence length for inputs: 57\n",
            "Max sequence length for outputs: 17\n"
          ]
        }
      ]
    },
    {
      "cell_type": "code",
      "metadata": {
        "id": "aDWxBmJWzi1z",
        "colab": {
          "base_uri": "https://localhost:8080/"
        },
        "outputId": "b3caebc0-527d-4227-c459-1b4541250819"
      },
      "source": [
        "target_characters"
      ],
      "execution_count": null,
      "outputs": [
        {
          "output_type": "execute_result",
          "data": {
            "text/plain": [
              "['\\t',\n",
              " '\\n',\n",
              " ' ',\n",
              " '!',\n",
              " '\"',\n",
              " '$',\n",
              " '%',\n",
              " '&',\n",
              " \"'\",\n",
              " ',',\n",
              " '-',\n",
              " '.',\n",
              " '0',\n",
              " '1',\n",
              " '2',\n",
              " '3',\n",
              " '5',\n",
              " '7',\n",
              " '8',\n",
              " '9',\n",
              " ':',\n",
              " '?',\n",
              " 'A',\n",
              " 'B',\n",
              " 'C',\n",
              " 'D',\n",
              " 'E',\n",
              " 'F',\n",
              " 'G',\n",
              " 'H',\n",
              " 'I',\n",
              " 'J',\n",
              " 'K',\n",
              " 'L',\n",
              " 'M',\n",
              " 'N',\n",
              " 'O',\n",
              " 'P',\n",
              " 'Q',\n",
              " 'R',\n",
              " 'S',\n",
              " 'T',\n",
              " 'U',\n",
              " 'V',\n",
              " 'W',\n",
              " 'Y',\n",
              " 'a',\n",
              " 'b',\n",
              " 'c',\n",
              " 'd',\n",
              " 'e',\n",
              " 'f',\n",
              " 'g',\n",
              " 'h',\n",
              " 'i',\n",
              " 'j',\n",
              " 'k',\n",
              " 'l',\n",
              " 'm',\n",
              " 'n',\n",
              " 'o',\n",
              " 'p',\n",
              " 'q',\n",
              " 'r',\n",
              " 's',\n",
              " 't',\n",
              " 'u',\n",
              " 'v',\n",
              " 'w',\n",
              " 'x',\n",
              " 'y',\n",
              " 'z',\n",
              " 'é']"
            ]
          },
          "metadata": {},
          "execution_count": 72
        }
      ]
    },
    {
      "cell_type": "code",
      "metadata": {
        "id": "7Chbly4GgsJV"
      },
      "source": [
        "input_token_index = dict(\n",
        "    [(char,i) for i, char in enumerate(input_characters)]\n",
        ")\n",
        "target_token_index = dict(\n",
        "    [(char,i) for i, char in enumerate(target_characters)]\n",
        ")"
      ],
      "execution_count": null,
      "outputs": []
    },
    {
      "cell_type": "code",
      "metadata": {
        "id": "L1uudvpQXpO0",
        "colab": {
          "base_uri": "https://localhost:8080/"
        },
        "outputId": "095817f8-6490-400a-b1a9-add821eb87fc"
      },
      "source": [
        "target_token_index"
      ],
      "execution_count": null,
      "outputs": [
        {
          "output_type": "execute_result",
          "data": {
            "text/plain": [
              "{'\\t': 0,\n",
              " '\\n': 1,\n",
              " ' ': 2,\n",
              " '!': 3,\n",
              " '\"': 4,\n",
              " '$': 5,\n",
              " '%': 6,\n",
              " '&': 7,\n",
              " \"'\": 8,\n",
              " ',': 9,\n",
              " '-': 10,\n",
              " '.': 11,\n",
              " '0': 12,\n",
              " '1': 13,\n",
              " '2': 14,\n",
              " '3': 15,\n",
              " '5': 16,\n",
              " '7': 17,\n",
              " '8': 18,\n",
              " '9': 19,\n",
              " ':': 20,\n",
              " '?': 21,\n",
              " 'A': 22,\n",
              " 'B': 23,\n",
              " 'C': 24,\n",
              " 'D': 25,\n",
              " 'E': 26,\n",
              " 'F': 27,\n",
              " 'G': 28,\n",
              " 'H': 29,\n",
              " 'I': 30,\n",
              " 'J': 31,\n",
              " 'K': 32,\n",
              " 'L': 33,\n",
              " 'M': 34,\n",
              " 'N': 35,\n",
              " 'O': 36,\n",
              " 'P': 37,\n",
              " 'Q': 38,\n",
              " 'R': 39,\n",
              " 'S': 40,\n",
              " 'T': 41,\n",
              " 'U': 42,\n",
              " 'V': 43,\n",
              " 'W': 44,\n",
              " 'Y': 45,\n",
              " 'a': 46,\n",
              " 'b': 47,\n",
              " 'c': 48,\n",
              " 'd': 49,\n",
              " 'e': 50,\n",
              " 'f': 51,\n",
              " 'g': 52,\n",
              " 'h': 53,\n",
              " 'i': 54,\n",
              " 'j': 55,\n",
              " 'k': 56,\n",
              " 'l': 57,\n",
              " 'm': 58,\n",
              " 'n': 59,\n",
              " 'o': 60,\n",
              " 'p': 61,\n",
              " 'q': 62,\n",
              " 'r': 63,\n",
              " 's': 64,\n",
              " 't': 65,\n",
              " 'u': 66,\n",
              " 'v': 67,\n",
              " 'w': 68,\n",
              " 'x': 69,\n",
              " 'y': 70,\n",
              " 'z': 71,\n",
              " 'é': 72}"
            ]
          },
          "metadata": {},
          "execution_count": 71
        }
      ]
    },
    {
      "cell_type": "code",
      "metadata": {
        "id": "J-kSpeEoh0Ye"
      },
      "source": [
        "encoder_input_data = np.zeros(\n",
        "    (len(input_texts), max_encoder_seq_length, number_encoder_tokens), dtype='float32'\n",
        ")\n",
        "decoder_input_data = np.zeros(\n",
        "    (len(input_texts), max_decoder_seq_length, number_decoder_tokens),dtype='float32'\n",
        ")\n",
        "decoder_target_data = np.zeros(\n",
        "    (len(input_texts), max_decoder_seq_length, number_decoder_tokens),dtype='float32'\n",
        ")"
      ],
      "execution_count": null,
      "outputs": []
    },
    {
      "cell_type": "code",
      "metadata": {
        "id": "8uqixMbyXyoL",
        "colab": {
          "base_uri": "https://localhost:8080/",
          "height": 35
        },
        "outputId": "1cc396c7-cf72-49ce-f82f-29dad778ef44"
      },
      "source": [
        "target_text"
      ],
      "execution_count": null,
      "outputs": [
        {
          "output_type": "execute_result",
          "data": {
            "application/vnd.google.colaboratory.intrinsic+json": {
              "type": "string"
            },
            "text/plain": [
              "'\\tI can hear you.\\n'"
            ]
          },
          "metadata": {},
          "execution_count": 28
        }
      ]
    },
    {
      "cell_type": "code",
      "metadata": {
        "id": "2vp_hHLclspP"
      },
      "source": [
        "#transform encode/decode target and input in matricies zeroes and ones\n",
        "for i, (input_text, target_text) in enumerate(zip(input_texts, target_texts)):\n",
        "  for t, char in enumerate(input_text):\n",
        "    encoder_input_data[i,t,input_token_index[char]] = 1\n",
        "  encoder_input_data[i,t + 1:,input_token_index[' ']] = 1\n",
        "  for t, char in enumerate(target_text):\n",
        "    decoder_input_data[i,t, target_token_index[char]] = 1\n",
        "    if t > 0:\n",
        "      decoder_target_data[i, t - 1, target_token_index[char]] = 1\n",
        "  decoder_input_data[i, t + 1:, target_token_index[' ']] = 1\n",
        "  decoder_target_data[i, t:,target_token_index[' ']] = 1"
      ],
      "execution_count": null,
      "outputs": []
    },
    {
      "cell_type": "code",
      "metadata": {
        "id": "o9uZ-MAFUujU"
      },
      "source": [
        "encoder_input_data1 = np.zeros(\n",
        "    (1, max_encoder_seq_length, number_encoder_tokens), dtype='float32'\n",
        ")\n",
        "def transform(input_text):\n",
        "  for t,char in enumerate(input_text):\n",
        "    encoder_input_data1[:,t,input_token_index[char]] =1\n",
        "  encoder_input_data1[:,t+1:,input_token_index[' ']] = 1\n",
        "  return encoder_input_data1"
      ],
      "execution_count": null,
      "outputs": []
    },
    {
      "cell_type": "code",
      "metadata": {
        "id": "MAcZ2JVRn3HN",
        "colab": {
          "base_uri": "https://localhost:8080/"
        },
        "outputId": "6f2cd448-0f50-4e33-ee6e-0f87dfde0ded"
      },
      "source": [
        "print(encoder_input_data1.shape)"
      ],
      "execution_count": null,
      "outputs": [
        {
          "output_type": "stream",
          "name": "stdout",
          "text": [
            "(1, 57, 90)\n"
          ]
        }
      ]
    },
    {
      "cell_type": "code",
      "metadata": {
        "id": "bNAp1h_xoHQn"
      },
      "source": [
        "encoder_inputs = Input(shape=(None, number_encoder_tokens))\n",
        "encoder = LSTM(latent_dim, return_state=True)\n",
        "encoder_outputs, state_h, state_c = encoder(encoder_inputs)\n",
        "encoder_states = [state_h, state_c]"
      ],
      "execution_count": null,
      "outputs": []
    },
    {
      "cell_type": "code",
      "metadata": {
        "id": "Ietl5s_LpKt9"
      },
      "source": [
        "decoder_inputs = Input(shape=(None,number_decoder_tokens))\n",
        "decoder_lstm = LSTM(latent_dim, return_sequences=True, return_state=True)\n",
        "decoder_outputs, _, _ = decoder_lstm(decoder_inputs,initial_state = encoder_states)\n",
        "decoder_dense = Dense(number_decoder_tokens, activation='softmax')\n",
        "decoder_outputs = decoder_dense(decoder_outputs)"
      ],
      "execution_count": null,
      "outputs": []
    },
    {
      "cell_type": "code",
      "metadata": {
        "id": "Ump9mh2HO4Vd"
      },
      "source": [
        "#run training\n",
        "#model.summary()\n",
        "#defining model\n",
        "model = Model([encoder_inputs, decoder_inputs], decoder_outputs)\n",
        "model.compile(optimizer=tf.keras.optimizers.Adam(learning_rate=0.01, beta_1=0.9, beta_2=0.999, decay=0.001), loss='categorical_crossentropy',\n",
        "              metrics=[\"accuracy\"])\n"
      ],
      "execution_count": null,
      "outputs": []
    },
    {
      "cell_type": "code",
      "metadata": {
        "colab": {
          "base_uri": "https://localhost:8080/"
        },
        "id": "m0mc5oEWrYK-",
        "outputId": "ac2e2a76-dcd3-428f-c1ab-4b8a745f19f0"
      },
      "source": [
        "model.fit(\n",
        "    [encoder_input_data, decoder_input_data], \n",
        "    decoder_target_data,\n",
        "    batch_size = batch_size,\n",
        "    epochs = epochs,\n",
        "    validation_split=0.2)\n",
        "model.save(\"E2S\")"
      ],
      "execution_count": null,
      "outputs": [
        {
          "output_type": "stream",
          "name": "stdout",
          "text": [
            "Epoch 1/100\n",
            "125/125 [==============================] - 53s 402ms/step - loss: 2.0345 - accuracy: 0.4572 - val_loss: 1.9513 - val_accuracy: 0.4303\n",
            "Epoch 2/100\n",
            "125/125 [==============================] - 49s 396ms/step - loss: 1.3756 - accuracy: 0.5957 - val_loss: 1.6223 - val_accuracy: 0.5038\n",
            "Epoch 3/100\n",
            "125/125 [==============================] - 49s 392ms/step - loss: 1.2014 - accuracy: 0.6386 - val_loss: 1.4981 - val_accuracy: 0.5484\n",
            "Epoch 4/100\n",
            "125/125 [==============================] - 50s 398ms/step - loss: 1.0566 - accuracy: 0.6732 - val_loss: 1.5560 - val_accuracy: 0.5450\n",
            "Epoch 5/100\n",
            "125/125 [==============================] - 50s 399ms/step - loss: 0.9609 - accuracy: 0.7002 - val_loss: 1.4424 - val_accuracy: 0.5746\n",
            "Epoch 6/100\n",
            "125/125 [==============================] - 51s 411ms/step - loss: 0.8783 - accuracy: 0.7243 - val_loss: 1.4072 - val_accuracy: 0.5941\n",
            "Epoch 7/100\n",
            "125/125 [==============================] - 50s 404ms/step - loss: 0.8084 - accuracy: 0.7456 - val_loss: 1.3719 - val_accuracy: 0.6060\n",
            "Epoch 8/100\n",
            "125/125 [==============================] - 50s 397ms/step - loss: 0.7520 - accuracy: 0.7652 - val_loss: 1.3484 - val_accuracy: 0.6142\n",
            "Epoch 9/100\n",
            "125/125 [==============================] - 50s 401ms/step - loss: 0.6997 - accuracy: 0.7810 - val_loss: 1.3914 - val_accuracy: 0.6293\n",
            "Epoch 10/100\n",
            "125/125 [==============================] - 50s 401ms/step - loss: 0.6562 - accuracy: 0.7956 - val_loss: 1.3928 - val_accuracy: 0.6244\n",
            "Epoch 11/100\n",
            "125/125 [==============================] - 52s 413ms/step - loss: 0.6189 - accuracy: 0.8086 - val_loss: 1.4062 - val_accuracy: 0.6283\n",
            "Epoch 12/100\n",
            "125/125 [==============================] - 51s 412ms/step - loss: 0.5867 - accuracy: 0.8185 - val_loss: 1.3991 - val_accuracy: 0.6301\n",
            "Epoch 13/100\n",
            "125/125 [==============================] - 50s 401ms/step - loss: 0.5599 - accuracy: 0.8267 - val_loss: 1.4271 - val_accuracy: 0.6349\n",
            "Epoch 14/100\n",
            "125/125 [==============================] - 50s 400ms/step - loss: 0.5349 - accuracy: 0.8347 - val_loss: 1.4442 - val_accuracy: 0.6331\n",
            "Epoch 15/100\n",
            "125/125 [==============================] - 50s 399ms/step - loss: 0.5125 - accuracy: 0.8415 - val_loss: 1.4475 - val_accuracy: 0.6416\n",
            "Epoch 16/100\n",
            "125/125 [==============================] - 50s 398ms/step - loss: 0.4966 - accuracy: 0.8455 - val_loss: 1.5766 - val_accuracy: 0.6274\n",
            "Epoch 17/100\n",
            "125/125 [==============================] - 50s 398ms/step - loss: 0.4776 - accuracy: 0.8508 - val_loss: 1.5560 - val_accuracy: 0.6306\n",
            "Epoch 18/100\n",
            "125/125 [==============================] - 51s 406ms/step - loss: 0.4644 - accuracy: 0.8550 - val_loss: 1.5471 - val_accuracy: 0.6357\n",
            "Epoch 19/100\n",
            "125/125 [==============================] - 52s 413ms/step - loss: 0.4505 - accuracy: 0.8591 - val_loss: 1.5582 - val_accuracy: 0.6380\n",
            "Epoch 20/100\n",
            "125/125 [==============================] - 50s 401ms/step - loss: 0.4394 - accuracy: 0.8617 - val_loss: 1.5416 - val_accuracy: 0.6450\n",
            "Epoch 21/100\n",
            "125/125 [==============================] - 50s 404ms/step - loss: 0.4284 - accuracy: 0.8646 - val_loss: 1.6585 - val_accuracy: 0.6291\n",
            "Epoch 22/100\n",
            "125/125 [==============================] - 50s 400ms/step - loss: 0.4183 - accuracy: 0.8679 - val_loss: 1.6205 - val_accuracy: 0.6379\n",
            "Epoch 23/100\n",
            "125/125 [==============================] - 51s 405ms/step - loss: 0.4094 - accuracy: 0.8699 - val_loss: 1.6712 - val_accuracy: 0.6332\n",
            "Epoch 24/100\n",
            "125/125 [==============================] - 50s 402ms/step - loss: 0.4012 - accuracy: 0.8714 - val_loss: 1.6740 - val_accuracy: 0.6336\n",
            "Epoch 25/100\n",
            "125/125 [==============================] - 53s 426ms/step - loss: 0.3940 - accuracy: 0.8737 - val_loss: 1.6722 - val_accuracy: 0.6387\n",
            "Epoch 26/100\n",
            "125/125 [==============================] - 51s 410ms/step - loss: 0.3889 - accuracy: 0.8752 - val_loss: 1.7123 - val_accuracy: 0.6367\n",
            "Epoch 27/100\n",
            "125/125 [==============================] - 51s 405ms/step - loss: 0.3809 - accuracy: 0.8772 - val_loss: 1.7166 - val_accuracy: 0.6384\n",
            "Epoch 28/100\n",
            "125/125 [==============================] - 52s 416ms/step - loss: 0.3758 - accuracy: 0.8790 - val_loss: 1.7366 - val_accuracy: 0.6344\n",
            "Epoch 29/100\n",
            "125/125 [==============================] - 51s 412ms/step - loss: 0.3698 - accuracy: 0.8801 - val_loss: 1.7551 - val_accuracy: 0.6344\n",
            "Epoch 30/100\n",
            "125/125 [==============================] - 52s 413ms/step - loss: 0.3648 - accuracy: 0.8817 - val_loss: 1.7954 - val_accuracy: 0.6323\n",
            "Epoch 31/100\n",
            "125/125 [==============================] - 52s 415ms/step - loss: 0.3601 - accuracy: 0.8822 - val_loss: 1.7739 - val_accuracy: 0.6387\n",
            "Epoch 32/100\n",
            "125/125 [==============================] - 53s 426ms/step - loss: 0.3558 - accuracy: 0.8837 - val_loss: 1.7645 - val_accuracy: 0.6386\n",
            "Epoch 33/100\n",
            "125/125 [==============================] - 52s 419ms/step - loss: 0.3516 - accuracy: 0.8841 - val_loss: 1.7909 - val_accuracy: 0.6396\n",
            "Epoch 34/100\n",
            "125/125 [==============================] - 51s 411ms/step - loss: 0.3483 - accuracy: 0.8849 - val_loss: 1.8265 - val_accuracy: 0.6358\n",
            "Epoch 35/100\n",
            "125/125 [==============================] - 52s 413ms/step - loss: 0.3442 - accuracy: 0.8854 - val_loss: 1.8516 - val_accuracy: 0.6334\n",
            "Epoch 36/100\n",
            "125/125 [==============================] - 52s 417ms/step - loss: 0.3397 - accuracy: 0.8870 - val_loss: 1.8301 - val_accuracy: 0.6409\n",
            "Epoch 37/100\n",
            "125/125 [==============================] - 53s 421ms/step - loss: 0.3365 - accuracy: 0.8882 - val_loss: 1.8079 - val_accuracy: 0.6405\n",
            "Epoch 38/100\n",
            "125/125 [==============================] - 52s 416ms/step - loss: 0.3338 - accuracy: 0.8884 - val_loss: 1.8003 - val_accuracy: 0.6410\n",
            "Epoch 39/100\n",
            "125/125 [==============================] - 52s 413ms/step - loss: 0.3303 - accuracy: 0.8900 - val_loss: 1.8985 - val_accuracy: 0.6355\n",
            "Epoch 40/100\n",
            "125/125 [==============================] - 53s 422ms/step - loss: 0.3277 - accuracy: 0.8898 - val_loss: 1.8322 - val_accuracy: 0.6419\n",
            "Epoch 41/100\n",
            "125/125 [==============================] - 52s 417ms/step - loss: 0.3268 - accuracy: 0.8904 - val_loss: 1.8569 - val_accuracy: 0.6393\n",
            "Epoch 42/100\n",
            "125/125 [==============================] - 53s 420ms/step - loss: 0.3238 - accuracy: 0.8912 - val_loss: 1.9053 - val_accuracy: 0.6391\n",
            "Epoch 43/100\n",
            "125/125 [==============================] - 54s 428ms/step - loss: 0.3202 - accuracy: 0.8922 - val_loss: 1.9337 - val_accuracy: 0.6346\n",
            "Epoch 44/100\n",
            "125/125 [==============================] - 55s 443ms/step - loss: 0.3179 - accuracy: 0.8925 - val_loss: 1.9498 - val_accuracy: 0.6344\n",
            "Epoch 45/100\n",
            "125/125 [==============================] - 54s 429ms/step - loss: 0.3150 - accuracy: 0.8936 - val_loss: 1.9464 - val_accuracy: 0.6361\n",
            "Epoch 46/100\n",
            "125/125 [==============================] - 54s 429ms/step - loss: 0.3128 - accuracy: 0.8944 - val_loss: 1.9606 - val_accuracy: 0.6369\n",
            "Epoch 47/100\n",
            "125/125 [==============================] - 52s 419ms/step - loss: 0.3110 - accuracy: 0.8939 - val_loss: 1.9617 - val_accuracy: 0.6372\n",
            "Epoch 48/100\n",
            "125/125 [==============================] - 52s 415ms/step - loss: 0.3086 - accuracy: 0.8952 - val_loss: 2.0332 - val_accuracy: 0.6284\n",
            "Epoch 49/100\n",
            "125/125 [==============================] - 53s 424ms/step - loss: 0.3065 - accuracy: 0.8951 - val_loss: 1.9199 - val_accuracy: 0.6397\n",
            "Epoch 50/100\n",
            "125/125 [==============================] - 55s 438ms/step - loss: 0.3043 - accuracy: 0.8965 - val_loss: 1.9788 - val_accuracy: 0.6368\n",
            "Epoch 51/100\n",
            "125/125 [==============================] - 53s 421ms/step - loss: 0.3025 - accuracy: 0.8968 - val_loss: 1.9600 - val_accuracy: 0.6405\n",
            "Epoch 52/100\n",
            "125/125 [==============================] - 51s 412ms/step - loss: 0.3001 - accuracy: 0.8976 - val_loss: 1.9905 - val_accuracy: 0.6379\n",
            "Epoch 53/100\n",
            "125/125 [==============================] - 52s 416ms/step - loss: 0.2987 - accuracy: 0.8974 - val_loss: 2.0282 - val_accuracy: 0.6351\n",
            "Epoch 54/100\n",
            "125/125 [==============================] - 52s 418ms/step - loss: 0.2963 - accuracy: 0.8980 - val_loss: 2.0122 - val_accuracy: 0.6392\n",
            "Epoch 55/100\n",
            "125/125 [==============================] - 52s 417ms/step - loss: 0.2956 - accuracy: 0.8985 - val_loss: 1.9982 - val_accuracy: 0.6373\n",
            "Epoch 56/100\n",
            "125/125 [==============================] - 53s 420ms/step - loss: 0.2925 - accuracy: 0.8995 - val_loss: 2.0366 - val_accuracy: 0.6389\n",
            "Epoch 57/100\n",
            "125/125 [==============================] - 51s 412ms/step - loss: 0.2905 - accuracy: 0.9003 - val_loss: 2.0028 - val_accuracy: 0.6419\n",
            "Epoch 58/100\n",
            "125/125 [==============================] - 52s 413ms/step - loss: 0.2896 - accuracy: 0.9002 - val_loss: 1.9793 - val_accuracy: 0.6429\n",
            "Epoch 59/100\n",
            "125/125 [==============================] - 51s 412ms/step - loss: 0.2882 - accuracy: 0.9007 - val_loss: 2.0125 - val_accuracy: 0.6400\n",
            "Epoch 60/100\n",
            "125/125 [==============================] - 53s 421ms/step - loss: 0.2864 - accuracy: 0.9013 - val_loss: 2.0636 - val_accuracy: 0.6387\n",
            "Epoch 61/100\n",
            "125/125 [==============================] - 52s 416ms/step - loss: 0.2848 - accuracy: 0.9019 - val_loss: 2.0592 - val_accuracy: 0.6385\n",
            "Epoch 62/100\n",
            "125/125 [==============================] - 54s 429ms/step - loss: 0.2836 - accuracy: 0.9020 - val_loss: 2.0427 - val_accuracy: 0.6402\n",
            "Epoch 63/100\n",
            "125/125 [==============================] - 54s 429ms/step - loss: 0.2820 - accuracy: 0.9022 - val_loss: 2.0561 - val_accuracy: 0.6402\n",
            "Epoch 64/100\n",
            "125/125 [==============================] - 54s 430ms/step - loss: 0.2796 - accuracy: 0.9034 - val_loss: 2.0646 - val_accuracy: 0.6378\n",
            "Epoch 65/100\n",
            "125/125 [==============================] - 50s 401ms/step - loss: 0.2791 - accuracy: 0.9032 - val_loss: 2.0412 - val_accuracy: 0.6434\n",
            "Epoch 66/100\n",
            "125/125 [==============================] - 52s 413ms/step - loss: 0.2777 - accuracy: 0.9037 - val_loss: 2.0947 - val_accuracy: 0.6410\n",
            "Epoch 67/100\n",
            "125/125 [==============================] - 51s 412ms/step - loss: 0.2765 - accuracy: 0.9038 - val_loss: 2.0597 - val_accuracy: 0.6403\n",
            "Epoch 68/100\n",
            "125/125 [==============================] - 53s 428ms/step - loss: 0.2750 - accuracy: 0.9046 - val_loss: 2.0975 - val_accuracy: 0.6408\n",
            "Epoch 69/100\n",
            "125/125 [==============================] - 52s 413ms/step - loss: 0.2737 - accuracy: 0.9048 - val_loss: 2.1033 - val_accuracy: 0.6387\n",
            "Epoch 70/100\n",
            "125/125 [==============================] - 53s 426ms/step - loss: 0.2724 - accuracy: 0.9048 - val_loss: 2.1405 - val_accuracy: 0.6357\n",
            "Epoch 71/100\n",
            "125/125 [==============================] - 52s 419ms/step - loss: 0.2725 - accuracy: 0.9052 - val_loss: 2.1104 - val_accuracy: 0.6399\n",
            "Epoch 72/100\n",
            "125/125 [==============================] - 52s 413ms/step - loss: 0.2704 - accuracy: 0.9061 - val_loss: 2.0994 - val_accuracy: 0.6396\n",
            "Epoch 73/100\n",
            "125/125 [==============================] - 52s 413ms/step - loss: 0.2687 - accuracy: 0.9062 - val_loss: 2.1582 - val_accuracy: 0.6353\n",
            "Epoch 74/100\n",
            "125/125 [==============================] - 53s 422ms/step - loss: 0.2672 - accuracy: 0.9067 - val_loss: 2.1416 - val_accuracy: 0.6373\n",
            "Epoch 75/100\n",
            "125/125 [==============================] - 51s 407ms/step - loss: 0.2666 - accuracy: 0.9064 - val_loss: 2.1425 - val_accuracy: 0.6376\n",
            "Epoch 76/100\n",
            "125/125 [==============================] - 51s 408ms/step - loss: 0.2653 - accuracy: 0.9070 - val_loss: 2.1141 - val_accuracy: 0.6421\n",
            "Epoch 77/100\n",
            "125/125 [==============================] - 51s 410ms/step - loss: 0.2643 - accuracy: 0.9077 - val_loss: 2.1432 - val_accuracy: 0.6390\n",
            "Epoch 78/100\n",
            "125/125 [==============================] - 52s 414ms/step - loss: 0.2628 - accuracy: 0.9078 - val_loss: 2.1843 - val_accuracy: 0.6363\n",
            "Epoch 79/100\n",
            "125/125 [==============================] - 51s 410ms/step - loss: 0.2622 - accuracy: 0.9075 - val_loss: 2.1601 - val_accuracy: 0.6356\n",
            "Epoch 80/100\n",
            "125/125 [==============================] - 53s 427ms/step - loss: 0.2604 - accuracy: 0.9089 - val_loss: 2.1574 - val_accuracy: 0.6416\n",
            "Epoch 81/100\n",
            "125/125 [==============================] - 50s 403ms/step - loss: 0.2595 - accuracy: 0.9088 - val_loss: 2.1845 - val_accuracy: 0.6381\n",
            "Epoch 82/100\n",
            "125/125 [==============================] - 53s 423ms/step - loss: 0.2583 - accuracy: 0.9091 - val_loss: 2.1387 - val_accuracy: 0.6407\n",
            "Epoch 83/100\n",
            "125/125 [==============================] - 53s 423ms/step - loss: 0.2573 - accuracy: 0.9095 - val_loss: 2.1493 - val_accuracy: 0.6436\n",
            "Epoch 84/100\n",
            "125/125 [==============================] - 53s 422ms/step - loss: 0.2565 - accuracy: 0.9096 - val_loss: 2.1968 - val_accuracy: 0.6393\n",
            "Epoch 85/100\n",
            "125/125 [==============================] - 53s 426ms/step - loss: 0.2551 - accuracy: 0.9101 - val_loss: 2.1749 - val_accuracy: 0.6408\n",
            "Epoch 86/100\n",
            "125/125 [==============================] - 53s 422ms/step - loss: 0.2544 - accuracy: 0.9105 - val_loss: 2.2217 - val_accuracy: 0.6377\n",
            "Epoch 87/100\n",
            "125/125 [==============================] - 53s 425ms/step - loss: 0.2532 - accuracy: 0.9107 - val_loss: 2.1947 - val_accuracy: 0.6376\n",
            "Epoch 88/100\n",
            "125/125 [==============================] - 51s 409ms/step - loss: 0.2522 - accuracy: 0.9114 - val_loss: 2.2129 - val_accuracy: 0.6390\n",
            "Epoch 89/100\n",
            "125/125 [==============================] - 52s 417ms/step - loss: 0.2517 - accuracy: 0.9110 - val_loss: 2.2148 - val_accuracy: 0.6406\n",
            "Epoch 90/100\n",
            "125/125 [==============================] - 52s 414ms/step - loss: 0.2499 - accuracy: 0.9115 - val_loss: 2.1767 - val_accuracy: 0.6397\n",
            "Epoch 91/100\n",
            "125/125 [==============================] - 52s 417ms/step - loss: 0.2491 - accuracy: 0.9125 - val_loss: 2.1977 - val_accuracy: 0.6417\n",
            "Epoch 92/100\n",
            "125/125 [==============================] - 52s 417ms/step - loss: 0.2482 - accuracy: 0.9124 - val_loss: 2.1780 - val_accuracy: 0.6429\n",
            "Epoch 93/100\n",
            "125/125 [==============================] - 52s 415ms/step - loss: 0.2472 - accuracy: 0.9130 - val_loss: 2.2179 - val_accuracy: 0.6386\n",
            "Epoch 94/100\n",
            "125/125 [==============================] - 52s 416ms/step - loss: 0.2460 - accuracy: 0.9129 - val_loss: 2.2584 - val_accuracy: 0.6371\n",
            "Epoch 95/100\n",
            "125/125 [==============================] - 53s 422ms/step - loss: 0.2452 - accuracy: 0.9134 - val_loss: 2.2712 - val_accuracy: 0.6369\n",
            "Epoch 96/100\n",
            "125/125 [==============================] - 53s 421ms/step - loss: 0.2442 - accuracy: 0.9133 - val_loss: 2.2533 - val_accuracy: 0.6378\n",
            "Epoch 97/100\n",
            "125/125 [==============================] - 51s 409ms/step - loss: 0.2432 - accuracy: 0.9141 - val_loss: 2.2325 - val_accuracy: 0.6412\n",
            "Epoch 98/100\n",
            "125/125 [==============================] - 51s 406ms/step - loss: 0.2426 - accuracy: 0.9143 - val_loss: 2.2854 - val_accuracy: 0.6375\n",
            "Epoch 99/100\n",
            "125/125 [==============================] - 51s 408ms/step - loss: 0.2418 - accuracy: 0.9143 - val_loss: 2.2457 - val_accuracy: 0.6400\n",
            "Epoch 100/100\n",
            "125/125 [==============================] - 52s 416ms/step - loss: 0.2401 - accuracy: 0.9149 - val_loss: 2.2407 - val_accuracy: 0.6422\n"
          ]
        },
        {
          "output_type": "stream",
          "name": "stderr",
          "text": [
            "WARNING:absl:Found untraced functions such as lstm_cell_layer_call_and_return_conditional_losses, lstm_cell_layer_call_fn, lstm_cell_1_layer_call_and_return_conditional_losses, lstm_cell_1_layer_call_fn, lstm_cell_layer_call_fn while saving (showing 5 of 10). These functions will not be directly callable after loading.\n"
          ]
        },
        {
          "output_type": "stream",
          "name": "stdout",
          "text": [
            "INFO:tensorflow:Assets written to: E2S/assets\n"
          ]
        },
        {
          "output_type": "stream",
          "name": "stderr",
          "text": [
            "INFO:tensorflow:Assets written to: E2S/assets\n"
          ]
        }
      ]
    },
    {
      "cell_type": "code",
      "metadata": {
        "id": "x77zEiy91t7i"
      },
      "source": [
        "from tensorflow.keras.utils import plot_model\n",
        "plot_model(model, to_file='modelsummary.png', show_shapes=True, show_layer_names=True)"
      ],
      "execution_count": null,
      "outputs": []
    },
    {
      "cell_type": "code",
      "metadata": {
        "colab": {
          "base_uri": "https://localhost:8080/"
        },
        "id": "VE7WcsGqVh6U",
        "outputId": "3786a175-120d-46a0-c7ed-4d63efd861e1"
      },
      "source": [
        "model.save(\"/content/drive/My Drive/NLP-Sato/MyModel\")"
      ],
      "execution_count": null,
      "outputs": [
        {
          "output_type": "stream",
          "name": "stderr",
          "text": [
            "WARNING:absl:Found untraced functions such as lstm_cell_layer_call_and_return_conditional_losses, lstm_cell_layer_call_fn, lstm_cell_1_layer_call_and_return_conditional_losses, lstm_cell_1_layer_call_fn, lstm_cell_layer_call_fn while saving (showing 5 of 10). These functions will not be directly callable after loading.\n"
          ]
        },
        {
          "output_type": "stream",
          "name": "stdout",
          "text": [
            "INFO:tensorflow:Assets written to: /content/drive/My Drive/NLP-Sato/MyModel/assets\n"
          ]
        },
        {
          "output_type": "stream",
          "name": "stderr",
          "text": [
            "INFO:tensorflow:Assets written to: /content/drive/My Drive/NLP-Sato/MyModel/assets\n"
          ]
        }
      ]
    },
    {
      "cell_type": "code",
      "metadata": {
        "id": "L_du7gxq3wTr"
      },
      "source": [
        "encoder_model = Model(encoder_inputs, encoder_states)\n",
        "\n",
        "decoder_state_input_h = Input(shape=(latent_dim,))\n",
        "decoder_state_input_c = Input(shape=(latent_dim,))\n",
        "decoder_states_inputs = [decoder_state_input_h, decoder_state_input_c]\n",
        "decoder_outputs, state_h, state_c = decoder_lstm(\n",
        "    decoder_inputs, initial_state=decoder_states_inputs)\n",
        "decoder_states = [state_h, state_c]\n",
        "decoder_outputs = decoder_dense(decoder_outputs)\n",
        "decoder_model = Model(\n",
        "    [decoder_inputs] + decoder_states_inputs,\n",
        "    [decoder_outputs] + decoder_states)\n",
        "reverse_input_char_index = dict(\n",
        "    (i, char) for char, i in input_token_index.items())\n",
        "reverse_target_char_index = dict(\n",
        "    (i, char) for char, i in target_token_index.items()\n",
        ")\n",
        "\n",
        "def decode_sequence(input_seq):\n",
        "    # Encode the input as state vectors.\n",
        "    states_value = encoder_model.predict(input_seq)\n",
        "\n",
        "    # Generate empty target sequence of length 1.\n",
        "    target_seq = np.zeros((1, 1, number_decoder_tokens))\n",
        "    # Populate the first character of target sequence with the start character.\n",
        "    #target_seq[0, 0, target_token_index['\\t']] = 1.\n",
        "\n",
        "    # Sampling loop for a batch of sequences\n",
        "    # (to simplify, here we assume a batch of size 1).\n",
        "    stop_condition = False\n",
        "    decoded_sentence = ''\n",
        "    while not stop_condition:\n",
        "        output_tokens, h, c = decoder_model.predict(\n",
        "            [target_seq] + states_value)\n",
        "\n",
        "        # Sample a token\n",
        "        sampled_token_index = np.argmax(output_tokens[0, -1, :])\n",
        "        sampled_char = reverse_target_char_index[sampled_token_index]\n",
        "        decoded_sentence += sampled_char\n",
        "\n",
        "        # Exit condition: either hit max length\n",
        "        # or find stop character.\n",
        "        if (sampled_char == '\\n' or\n",
        "           len(decoded_sentence) > max_decoder_seq_length):\n",
        "            stop_condition = True\n",
        "\n",
        "        # Update the target sequence (of length 1).\n",
        "        target_seq = np.zeros((1, 1, number_decoder_tokens))\n",
        "        target_seq[0, 0, sampled_token_index] = 1.\n",
        "\n",
        "        # Update states\n",
        "        states_value = [h, c]\n",
        "\n",
        "    return decoded_sentence\n",
        "#encoder_input_data[seq_index: seq_index + 1]\n",
        "for seq_index in range(100):\n",
        "  input_seq = encoder_input_data[seq_index: seq_index + 1]\n",
        "  decoded_sentence = decode_sequence(input_seq)\n",
        "  print('--')\n",
        "  print('Input sentence : ',input_texts[seq_index])\n",
        "  print('Decoded sentence : ', decoded_sentence)\n",
        "#input_seq.shape\n",
        "  #return model"
      ],
      "execution_count": null,
      "outputs": []
    },
    {
      "cell_type": "code",
      "metadata": {
        "colab": {
          "base_uri": "https://localhost:8080/",
          "height": 229
        },
        "id": "9rJBOKNDwABm",
        "outputId": "6e607ef9-7d62-4133-e712-c412779d8e57"
      },
      "source": [
        "#model=models.load_model(\"/content/drive/My Drive/NLP-Sato/MyModel\")\n",
        "encoder_inputs = model.input[0]  # input_1\n",
        "encoder_outputs, state_h_enc, state_c_enc = model.layers[2].output  # lstm_1\n",
        "encoder_states = [state_h_enc, state_c_enc]\n",
        "encoder_model = Model(encoder_inputs, encoder_states)\n",
        "\n",
        "decoder_inputs = model.input[1]  # input_2\n",
        "decoder_state_input_h = Input(shape=(latent_dim,), name=\"input_3\")\n",
        "decoder_state_input_c = Input(shape=(latent_dim,), name=\"input_4\")\n",
        "decoder_states_inputs = [decoder_state_input_h, decoder_state_input_c]\n",
        "decoder_lstm = model.layers[3]\n",
        "decoder_outputs, state_h_dec, state_c_dec = decoder_lstm(\n",
        "    decoder_inputs, initial_state=decoder_states_inputs\n",
        ")\n",
        "decoder_states = [state_h_dec, state_c_dec]\n",
        "decoder_dense = model.layers[4]\n",
        "decoder_outputs = decoder_dense(decoder_outputs)\n",
        "decoder_model = Model(\n",
        "    [decoder_inputs] + decoder_states_inputs, [decoder_outputs] + decoder_states\n",
        ")\n",
        "\n",
        "reverse_input_char_index = dict((i, char) for char, i in input_token_index.items())\n",
        "reverse_target_char_index = dict((i, char) for char, i in target_token_index.items())\n",
        "\n",
        "def decode_sequence(input_seq):\n",
        "    states_value = encoder_model.predict(input_seq)\n",
        "\n",
        "    target_seq = np.zeros((1, 1, number_decoder_tokens))\n",
        "    target_seq[0, 0, target_token_index[\"\\t\"]] = 1.0\n",
        "\n",
        "    stop_condition = False\n",
        "    decoded_sentence = \"\"\n",
        "    while not stop_condition:\n",
        "        output_tokens, h, c = decoder_model.predict([target_seq] + states_value)\n",
        "\n",
        "        sampled_token_index = np.argmax(output_tokens[0, -1, :])\n",
        "        sampled_char = reverse_target_char_index[sampled_token_index]\n",
        "        decoded_sentence += sampled_char\n",
        "\n",
        "        if sampled_char == \"\\n\" or len(decoded_sentence) > max_decoder_seq_length:\n",
        "            stop_condition = True\n",
        "\n",
        "        target_seq = np.zeros((1, 1, number_decoder_tokens))\n",
        "        target_seq[0, 0, sampled_token_index] = 1.0\n",
        "\n",
        "        states_value = [h, c]\n",
        "    return decoded_sentence\n",
        "\n",
        "#i = np.random.choice(len(input_texts))\n",
        "#input_seq = encoder_input_data[i:i+1]\n",
        "input_text_test=\"Vas-y.\"\n",
        "input_seq= transform(input_text_test)\n",
        "translation = decode_sequence(input_seq)\n",
        "print('-')\n",
        "print('Input:', input_text_test)\n",
        "print('Translation:', translation)"
      ],
      "execution_count": null,
      "outputs": [
        {
          "output_type": "error",
          "ename": "NameError",
          "evalue": "ignored",
          "traceback": [
            "\u001b[0;31m---------------------------------------------------------------------------\u001b[0m",
            "\u001b[0;31mNameError\u001b[0m                                 Traceback (most recent call last)",
            "\u001b[0;32m<ipython-input-1-5e8761610818>\u001b[0m in \u001b[0;36m<module>\u001b[0;34m()\u001b[0m\n\u001b[1;32m      1\u001b[0m \u001b[0;31m#model=models.load_model(\"/content/drive/My Drive/NLP-Sato/MyModel\")\u001b[0m\u001b[0;34m\u001b[0m\u001b[0;34m\u001b[0m\u001b[0;34m\u001b[0m\u001b[0m\n\u001b[0;32m----> 2\u001b[0;31m \u001b[0mencoder_inputs\u001b[0m \u001b[0;34m=\u001b[0m \u001b[0mmodel\u001b[0m\u001b[0;34m.\u001b[0m\u001b[0minput\u001b[0m\u001b[0;34m[\u001b[0m\u001b[0;36m0\u001b[0m\u001b[0;34m]\u001b[0m  \u001b[0;31m# input_1\u001b[0m\u001b[0;34m\u001b[0m\u001b[0;34m\u001b[0m\u001b[0m\n\u001b[0m\u001b[1;32m      3\u001b[0m \u001b[0mencoder_outputs\u001b[0m\u001b[0;34m,\u001b[0m \u001b[0mstate_h_enc\u001b[0m\u001b[0;34m,\u001b[0m \u001b[0mstate_c_enc\u001b[0m \u001b[0;34m=\u001b[0m \u001b[0mmodel\u001b[0m\u001b[0;34m.\u001b[0m\u001b[0mlayers\u001b[0m\u001b[0;34m[\u001b[0m\u001b[0;36m2\u001b[0m\u001b[0;34m]\u001b[0m\u001b[0;34m.\u001b[0m\u001b[0moutput\u001b[0m  \u001b[0;31m# lstm_1\u001b[0m\u001b[0;34m\u001b[0m\u001b[0;34m\u001b[0m\u001b[0m\n\u001b[1;32m      4\u001b[0m \u001b[0mencoder_states\u001b[0m \u001b[0;34m=\u001b[0m \u001b[0;34m[\u001b[0m\u001b[0mstate_h_enc\u001b[0m\u001b[0;34m,\u001b[0m \u001b[0mstate_c_enc\u001b[0m\u001b[0;34m]\u001b[0m\u001b[0;34m\u001b[0m\u001b[0;34m\u001b[0m\u001b[0m\n\u001b[1;32m      5\u001b[0m \u001b[0mencoder_model\u001b[0m \u001b[0;34m=\u001b[0m \u001b[0mModel\u001b[0m\u001b[0;34m(\u001b[0m\u001b[0mencoder_inputs\u001b[0m\u001b[0;34m,\u001b[0m \u001b[0mencoder_states\u001b[0m\u001b[0;34m)\u001b[0m\u001b[0;34m\u001b[0m\u001b[0;34m\u001b[0m\u001b[0m\n",
            "\u001b[0;31mNameError\u001b[0m: name 'model' is not defined"
          ]
        }
      ]
    }
  ]
}